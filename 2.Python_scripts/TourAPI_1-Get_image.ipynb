{
 "cells": [
  {
   "cell_type": "code",
   "execution_count": 15,
   "metadata": {},
   "outputs": [],
   "source": [
    "import copy\n",
    "import json\n",
    "from urllib.request import urlopen\n",
    "from urllib.parse import urlencode\n",
    "import urllib\n",
    "import pandas as pd\n",
    "import pickle\n",
    "import urllib.request\n",
    "import csv"
   ]
  },
  {
   "cell_type": "code",
   "execution_count": 16,
   "metadata": {},
   "outputs": [],
   "source": [
    "#API_KEY = 'mh1jm8k%2FCGJrY2DSJgynpHtZdGNxKLWh7siRAzVptTWqvj0dLTsBrcbCCZD1eDbolfOn%2BSzYIEr7uDxbajEMlw%3D%3D'\n",
    "API_KEY = '4%2BqpiX2998eR6zyMtyCVaTbit40uBJGz0GpeFVgLBxd2rrNgBd%2FN2fl85IojUAmwj46PR9CRpymxR1n4GYp9aw%3D%3D'\n",
    "#API_KEY = 'xXWvAlUZW2N%2FljUqZ6JM%2BXXgiMPixeBES4JQCBSXKSBt9G3chFckWFn0UxHvwh5W3ItVFTHRezzTWNY8o9iGGQ%3D%3D'"
   ]
  },
  {
   "cell_type": "code",
   "execution_count": 17,
   "metadata": {},
   "outputs": [],
   "source": [
    "url = 'http://api.visitkorea.or.kr/openapi/service/rest/KorService/'\n",
    "MobileOS = 'ETC'\n",
    "MobileApp = 'TestApp'\n",
    "pageNo = '1'"
   ]
  },
  {
   "cell_type": "code",
   "execution_count": 27,
   "metadata": {},
   "outputs": [
    {
     "name": "stdout",
     "output_type": "stream",
     "text": [
      "xXWvAlUZW2N%2FljUqZ6JM%2BXXgiMPixeBES4JQCBSXKSBt9G3chFckWFn0UxHvwh5W3ItVFTHRezzTWNY8o9iGGQ%3D%3D\n"
     ]
    }
   ],
   "source": [
    "print(API_KEY)"
   ]
  },
  {
   "cell_type": "code",
   "execution_count": 18,
   "metadata": {},
   "outputs": [],
   "source": [
    "query = '?ServiceKey='+API_KEY+'&MobileOS='+MobileOS+'&MobileApp='+MobileApp +'&pageNo='+ pageNo +'&_type=json'"
   ]
  },
  {
   "cell_type": "code",
   "execution_count": 19,
   "metadata": {},
   "outputs": [],
   "source": [
    "opCode = {\n",
    "    '1' : \"areaCode\",\n",
    "    '2' : \"categoryCode\",\n",
    "    '3' : 'areaBasedList',\n",
    "    '4' : 'locationBasedList',\n",
    "    '5' : 'searchKeyword',\n",
    "    '6' : 'searchFestival',\n",
    "    '7' : 'searchStay',\n",
    "    '8' : 'detailCommon',\n",
    "    '9' : 'detailIntro',\n",
    "    '10' : 'detailInfo',\n",
    "    '11' : 'detailImage'\n",
    "}"
   ]
  },
  {
   "cell_type": "code",
   "execution_count": 20,
   "metadata": {},
   "outputs": [],
   "source": [
    "ContentTypeId = {\n",
    "    '관광지' : '12',\n",
    "    '문화시설' : '14',\n",
    "    '행사' : '14',\n",
    "    '여행' : '25',\n",
    "    '레포츠' : '28',\n",
    "    '숙박' : '32',\n",
    "    '쇼핑' : '38',\n",
    "    '음식점' : '39'\n",
    "}"
   ]
  },
  {
   "cell_type": "code",
   "execution_count": 21,
   "metadata": {},
   "outputs": [],
   "source": [
    "pageNo = '1'\n",
    "isEnd = False\n",
    "totalCount = '1000'\n",
    "data = list()\n",
    "image =list()"
   ]
  },
  {
   "cell_type": "code",
   "execution_count": 8,
   "metadata": {},
   "outputs": [],
   "source": [
    "#딱히 사용하진 않음\n",
    "def getQuery(pageNo, op) :\n",
    "    query = '?ServiceKey='+API_KEY+'&MobileOS='+MobileOS+'&MobileApp='+MobileApp +'&pageNo='+ pageNo +'&_type=json'\n",
    "    request = urllib.request.Request(url+opCode['1']+query)\n",
    "    request.get_method = lambda: 'GET'\n",
    "    response_body = urlopen(request).read()\n",
    "    item = json.loads(response_body.decode('utf-8'))\n",
    "    if item['response']['body']['items'] == '' : \n",
    "        return None\n",
    "    else :\n",
    "        return item['response']['body']['items']['item']\n"
   ]
  },
  {
   "cell_type": "code",
   "execution_count": 13,
   "metadata": {},
   "outputs": [
    {
     "name": "stdout",
     "output_type": "stream",
     "text": [
      "http://api.visitkorea.or.kr/openapi/service/rest/KorService/detailImageareaBasedList?ServiceKey=4%2BqpiX2998eR6zyMtyCVaTbit40uBJGz0GpeFVgLBxd2rrNgBd%2FN2fl85IojUAmwj46PR9CRpymxR1n4GYp9aw%3D%3D&numOfRows=1000&MobileOS=ETC&MobileApp=TestApp&pageNo=1&_type=json\n"
     ]
    },
    {
     "ename": "HTTPError",
     "evalue": "HTTP Error 500: Internal Server Error",
     "output_type": "error",
     "traceback": [
      "\u001b[1;31m---------------------------------------------------------------------------\u001b[0m",
      "\u001b[1;31mHTTPError\u001b[0m                                 Traceback (most recent call last)",
      "\u001b[1;32m<ipython-input-13-800f4b00758a>\u001b[0m in \u001b[0;36m<module>\u001b[1;34m\u001b[0m\n\u001b[0;32m      4\u001b[0m     \u001b[0mprint\u001b[0m\u001b[1;33m(\u001b[0m\u001b[0murl\u001b[0m\u001b[1;33m+\u001b[0m\u001b[0mopCode\u001b[0m\u001b[1;33m[\u001b[0m\u001b[1;34m'3'\u001b[0m\u001b[1;33m]\u001b[0m\u001b[1;33m+\u001b[0m\u001b[0mquery\u001b[0m\u001b[1;33m)\u001b[0m\u001b[1;33m\u001b[0m\u001b[1;33m\u001b[0m\u001b[0m\n\u001b[0;32m      5\u001b[0m     \u001b[0mrequest\u001b[0m\u001b[1;33m.\u001b[0m\u001b[0mget_method\u001b[0m \u001b[1;33m=\u001b[0m \u001b[1;32mlambda\u001b[0m\u001b[1;33m:\u001b[0m \u001b[1;34m'GET'\u001b[0m\u001b[1;33m\u001b[0m\u001b[1;33m\u001b[0m\u001b[0m\n\u001b[1;32m----> 6\u001b[1;33m     \u001b[0mresponse_body\u001b[0m \u001b[1;33m=\u001b[0m \u001b[0murlopen\u001b[0m\u001b[1;33m(\u001b[0m\u001b[0mrequest\u001b[0m\u001b[1;33m)\u001b[0m\u001b[1;33m.\u001b[0m\u001b[0mread\u001b[0m\u001b[1;33m(\u001b[0m\u001b[1;33m)\u001b[0m\u001b[1;33m\u001b[0m\u001b[1;33m\u001b[0m\u001b[0m\n\u001b[0m\u001b[0;32m      7\u001b[0m     \u001b[0mitem\u001b[0m \u001b[1;33m=\u001b[0m \u001b[0mjson\u001b[0m\u001b[1;33m.\u001b[0m\u001b[0mloads\u001b[0m\u001b[1;33m(\u001b[0m\u001b[0mresponse_body\u001b[0m\u001b[1;33m.\u001b[0m\u001b[0mdecode\u001b[0m\u001b[1;33m(\u001b[0m\u001b[1;34m'utf-8'\u001b[0m\u001b[1;33m)\u001b[0m\u001b[1;33m)\u001b[0m\u001b[1;33m\u001b[0m\u001b[1;33m\u001b[0m\u001b[0m\n\u001b[0;32m      8\u001b[0m     \u001b[1;32mif\u001b[0m \u001b[0mitem\u001b[0m\u001b[1;33m[\u001b[0m\u001b[1;34m'response'\u001b[0m\u001b[1;33m]\u001b[0m\u001b[1;33m[\u001b[0m\u001b[1;34m'body'\u001b[0m\u001b[1;33m]\u001b[0m\u001b[1;33m[\u001b[0m\u001b[1;34m'items'\u001b[0m\u001b[1;33m]\u001b[0m \u001b[1;33m==\u001b[0m \u001b[1;34m''\u001b[0m \u001b[1;33m:\u001b[0m\u001b[1;33m\u001b[0m\u001b[1;33m\u001b[0m\u001b[0m\n",
      "\u001b[1;32mC:\\anaconda3\\lib\\urllib\\request.py\u001b[0m in \u001b[0;36murlopen\u001b[1;34m(url, data, timeout, cafile, capath, cadefault, context)\u001b[0m\n\u001b[0;32m    220\u001b[0m     \u001b[1;32melse\u001b[0m\u001b[1;33m:\u001b[0m\u001b[1;33m\u001b[0m\u001b[1;33m\u001b[0m\u001b[0m\n\u001b[0;32m    221\u001b[0m         \u001b[0mopener\u001b[0m \u001b[1;33m=\u001b[0m \u001b[0m_opener\u001b[0m\u001b[1;33m\u001b[0m\u001b[1;33m\u001b[0m\u001b[0m\n\u001b[1;32m--> 222\u001b[1;33m     \u001b[1;32mreturn\u001b[0m \u001b[0mopener\u001b[0m\u001b[1;33m.\u001b[0m\u001b[0mopen\u001b[0m\u001b[1;33m(\u001b[0m\u001b[0murl\u001b[0m\u001b[1;33m,\u001b[0m \u001b[0mdata\u001b[0m\u001b[1;33m,\u001b[0m \u001b[0mtimeout\u001b[0m\u001b[1;33m)\u001b[0m\u001b[1;33m\u001b[0m\u001b[1;33m\u001b[0m\u001b[0m\n\u001b[0m\u001b[0;32m    223\u001b[0m \u001b[1;33m\u001b[0m\u001b[0m\n\u001b[0;32m    224\u001b[0m \u001b[1;32mdef\u001b[0m \u001b[0minstall_opener\u001b[0m\u001b[1;33m(\u001b[0m\u001b[0mopener\u001b[0m\u001b[1;33m)\u001b[0m\u001b[1;33m:\u001b[0m\u001b[1;33m\u001b[0m\u001b[1;33m\u001b[0m\u001b[0m\n",
      "\u001b[1;32mC:\\anaconda3\\lib\\urllib\\request.py\u001b[0m in \u001b[0;36mopen\u001b[1;34m(self, fullurl, data, timeout)\u001b[0m\n\u001b[0;32m    529\u001b[0m         \u001b[1;32mfor\u001b[0m \u001b[0mprocessor\u001b[0m \u001b[1;32min\u001b[0m \u001b[0mself\u001b[0m\u001b[1;33m.\u001b[0m\u001b[0mprocess_response\u001b[0m\u001b[1;33m.\u001b[0m\u001b[0mget\u001b[0m\u001b[1;33m(\u001b[0m\u001b[0mprotocol\u001b[0m\u001b[1;33m,\u001b[0m \u001b[1;33m[\u001b[0m\u001b[1;33m]\u001b[0m\u001b[1;33m)\u001b[0m\u001b[1;33m:\u001b[0m\u001b[1;33m\u001b[0m\u001b[1;33m\u001b[0m\u001b[0m\n\u001b[0;32m    530\u001b[0m             \u001b[0mmeth\u001b[0m \u001b[1;33m=\u001b[0m \u001b[0mgetattr\u001b[0m\u001b[1;33m(\u001b[0m\u001b[0mprocessor\u001b[0m\u001b[1;33m,\u001b[0m \u001b[0mmeth_name\u001b[0m\u001b[1;33m)\u001b[0m\u001b[1;33m\u001b[0m\u001b[1;33m\u001b[0m\u001b[0m\n\u001b[1;32m--> 531\u001b[1;33m             \u001b[0mresponse\u001b[0m \u001b[1;33m=\u001b[0m \u001b[0mmeth\u001b[0m\u001b[1;33m(\u001b[0m\u001b[0mreq\u001b[0m\u001b[1;33m,\u001b[0m \u001b[0mresponse\u001b[0m\u001b[1;33m)\u001b[0m\u001b[1;33m\u001b[0m\u001b[1;33m\u001b[0m\u001b[0m\n\u001b[0m\u001b[0;32m    532\u001b[0m \u001b[1;33m\u001b[0m\u001b[0m\n\u001b[0;32m    533\u001b[0m         \u001b[1;32mreturn\u001b[0m \u001b[0mresponse\u001b[0m\u001b[1;33m\u001b[0m\u001b[1;33m\u001b[0m\u001b[0m\n",
      "\u001b[1;32mC:\\anaconda3\\lib\\urllib\\request.py\u001b[0m in \u001b[0;36mhttp_response\u001b[1;34m(self, request, response)\u001b[0m\n\u001b[0;32m    639\u001b[0m         \u001b[1;32mif\u001b[0m \u001b[1;32mnot\u001b[0m \u001b[1;33m(\u001b[0m\u001b[1;36m200\u001b[0m \u001b[1;33m<=\u001b[0m \u001b[0mcode\u001b[0m \u001b[1;33m<\u001b[0m \u001b[1;36m300\u001b[0m\u001b[1;33m)\u001b[0m\u001b[1;33m:\u001b[0m\u001b[1;33m\u001b[0m\u001b[1;33m\u001b[0m\u001b[0m\n\u001b[0;32m    640\u001b[0m             response = self.parent.error(\n\u001b[1;32m--> 641\u001b[1;33m                 'http', request, response, code, msg, hdrs)\n\u001b[0m\u001b[0;32m    642\u001b[0m \u001b[1;33m\u001b[0m\u001b[0m\n\u001b[0;32m    643\u001b[0m         \u001b[1;32mreturn\u001b[0m \u001b[0mresponse\u001b[0m\u001b[1;33m\u001b[0m\u001b[1;33m\u001b[0m\u001b[0m\n",
      "\u001b[1;32mC:\\anaconda3\\lib\\urllib\\request.py\u001b[0m in \u001b[0;36merror\u001b[1;34m(self, proto, *args)\u001b[0m\n\u001b[0;32m    567\u001b[0m         \u001b[1;32mif\u001b[0m \u001b[0mhttp_err\u001b[0m\u001b[1;33m:\u001b[0m\u001b[1;33m\u001b[0m\u001b[1;33m\u001b[0m\u001b[0m\n\u001b[0;32m    568\u001b[0m             \u001b[0margs\u001b[0m \u001b[1;33m=\u001b[0m \u001b[1;33m(\u001b[0m\u001b[0mdict\u001b[0m\u001b[1;33m,\u001b[0m \u001b[1;34m'default'\u001b[0m\u001b[1;33m,\u001b[0m \u001b[1;34m'http_error_default'\u001b[0m\u001b[1;33m)\u001b[0m \u001b[1;33m+\u001b[0m \u001b[0morig_args\u001b[0m\u001b[1;33m\u001b[0m\u001b[1;33m\u001b[0m\u001b[0m\n\u001b[1;32m--> 569\u001b[1;33m             \u001b[1;32mreturn\u001b[0m \u001b[0mself\u001b[0m\u001b[1;33m.\u001b[0m\u001b[0m_call_chain\u001b[0m\u001b[1;33m(\u001b[0m\u001b[1;33m*\u001b[0m\u001b[0margs\u001b[0m\u001b[1;33m)\u001b[0m\u001b[1;33m\u001b[0m\u001b[1;33m\u001b[0m\u001b[0m\n\u001b[0m\u001b[0;32m    570\u001b[0m \u001b[1;33m\u001b[0m\u001b[0m\n\u001b[0;32m    571\u001b[0m \u001b[1;31m# XXX probably also want an abstract factory that knows when it makes\u001b[0m\u001b[1;33m\u001b[0m\u001b[1;33m\u001b[0m\u001b[1;33m\u001b[0m\u001b[0m\n",
      "\u001b[1;32mC:\\anaconda3\\lib\\urllib\\request.py\u001b[0m in \u001b[0;36m_call_chain\u001b[1;34m(self, chain, kind, meth_name, *args)\u001b[0m\n\u001b[0;32m    501\u001b[0m         \u001b[1;32mfor\u001b[0m \u001b[0mhandler\u001b[0m \u001b[1;32min\u001b[0m \u001b[0mhandlers\u001b[0m\u001b[1;33m:\u001b[0m\u001b[1;33m\u001b[0m\u001b[1;33m\u001b[0m\u001b[0m\n\u001b[0;32m    502\u001b[0m             \u001b[0mfunc\u001b[0m \u001b[1;33m=\u001b[0m \u001b[0mgetattr\u001b[0m\u001b[1;33m(\u001b[0m\u001b[0mhandler\u001b[0m\u001b[1;33m,\u001b[0m \u001b[0mmeth_name\u001b[0m\u001b[1;33m)\u001b[0m\u001b[1;33m\u001b[0m\u001b[1;33m\u001b[0m\u001b[0m\n\u001b[1;32m--> 503\u001b[1;33m             \u001b[0mresult\u001b[0m \u001b[1;33m=\u001b[0m \u001b[0mfunc\u001b[0m\u001b[1;33m(\u001b[0m\u001b[1;33m*\u001b[0m\u001b[0margs\u001b[0m\u001b[1;33m)\u001b[0m\u001b[1;33m\u001b[0m\u001b[1;33m\u001b[0m\u001b[0m\n\u001b[0m\u001b[0;32m    504\u001b[0m             \u001b[1;32mif\u001b[0m \u001b[0mresult\u001b[0m \u001b[1;32mis\u001b[0m \u001b[1;32mnot\u001b[0m \u001b[1;32mNone\u001b[0m\u001b[1;33m:\u001b[0m\u001b[1;33m\u001b[0m\u001b[1;33m\u001b[0m\u001b[0m\n\u001b[0;32m    505\u001b[0m                 \u001b[1;32mreturn\u001b[0m \u001b[0mresult\u001b[0m\u001b[1;33m\u001b[0m\u001b[1;33m\u001b[0m\u001b[0m\n",
      "\u001b[1;32mC:\\anaconda3\\lib\\urllib\\request.py\u001b[0m in \u001b[0;36mhttp_error_default\u001b[1;34m(self, req, fp, code, msg, hdrs)\u001b[0m\n\u001b[0;32m    647\u001b[0m \u001b[1;32mclass\u001b[0m \u001b[0mHTTPDefaultErrorHandler\u001b[0m\u001b[1;33m(\u001b[0m\u001b[0mBaseHandler\u001b[0m\u001b[1;33m)\u001b[0m\u001b[1;33m:\u001b[0m\u001b[1;33m\u001b[0m\u001b[1;33m\u001b[0m\u001b[0m\n\u001b[0;32m    648\u001b[0m     \u001b[1;32mdef\u001b[0m \u001b[0mhttp_error_default\u001b[0m\u001b[1;33m(\u001b[0m\u001b[0mself\u001b[0m\u001b[1;33m,\u001b[0m \u001b[0mreq\u001b[0m\u001b[1;33m,\u001b[0m \u001b[0mfp\u001b[0m\u001b[1;33m,\u001b[0m \u001b[0mcode\u001b[0m\u001b[1;33m,\u001b[0m \u001b[0mmsg\u001b[0m\u001b[1;33m,\u001b[0m \u001b[0mhdrs\u001b[0m\u001b[1;33m)\u001b[0m\u001b[1;33m:\u001b[0m\u001b[1;33m\u001b[0m\u001b[1;33m\u001b[0m\u001b[0m\n\u001b[1;32m--> 649\u001b[1;33m         \u001b[1;32mraise\u001b[0m \u001b[0mHTTPError\u001b[0m\u001b[1;33m(\u001b[0m\u001b[0mreq\u001b[0m\u001b[1;33m.\u001b[0m\u001b[0mfull_url\u001b[0m\u001b[1;33m,\u001b[0m \u001b[0mcode\u001b[0m\u001b[1;33m,\u001b[0m \u001b[0mmsg\u001b[0m\u001b[1;33m,\u001b[0m \u001b[0mhdrs\u001b[0m\u001b[1;33m,\u001b[0m \u001b[0mfp\u001b[0m\u001b[1;33m)\u001b[0m\u001b[1;33m\u001b[0m\u001b[1;33m\u001b[0m\u001b[0m\n\u001b[0m\u001b[0;32m    650\u001b[0m \u001b[1;33m\u001b[0m\u001b[0m\n\u001b[0;32m    651\u001b[0m \u001b[1;32mclass\u001b[0m \u001b[0mHTTPRedirectHandler\u001b[0m\u001b[1;33m(\u001b[0m\u001b[0mBaseHandler\u001b[0m\u001b[1;33m)\u001b[0m\u001b[1;33m:\u001b[0m\u001b[1;33m\u001b[0m\u001b[1;33m\u001b[0m\u001b[0m\n",
      "\u001b[1;31mHTTPError\u001b[0m: HTTP Error 500: Internal Server Error"
     ]
    }
   ],
   "source": [
    "while True:\n",
    "    query = '?ServiceKey='+API_KEY+'&numOfRows=1000&MobileOS='+MobileOS+'&MobileApp='+MobileApp +'&pageNo='+ pageNo +'&_type=json'\n",
    "    request = urllib.request.Request(url+opCode['3']+query)\n",
    "    print(url+opCode['3']+query)\n",
    "    request.get_method = lambda: 'GET'\n",
    "    response_body = urlopen(request).read()\n",
    "    item = json.loads(response_body.decode('utf-8'))\n",
    "    if item['response']['body']['items'] == '' : \n",
    "        break\n",
    "    else :\n",
    "        pageNo = str(int(pageNo) + 1)\n",
    "    for i in item['response']['body']['items']['item'] :\n",
    "        data.append((i['title'], i['contentid']))"
   ]
  },
  {
   "cell_type": "code",
   "execution_count": 23,
   "metadata": {},
   "outputs": [
    {
     "data": {
      "text/plain": [
       "<function TextIOWrapper.close()>"
      ]
     },
     "execution_count": 23,
     "metadata": {},
     "output_type": "execute_result"
    }
   ],
   "source": [
    "data = list()\n",
    "f = open(\"F:\\/csv/data_1.csv\",'r',encoding='UTF8')\n",
    "rea = csv.reader(f)\n",
    "for row in rea:\n",
    "    data.append((row[0],row[1]))\n",
    "f.close"
   ]
  },
  {
   "cell_type": "code",
   "execution_count": 14,
   "metadata": {},
   "outputs": [
    {
     "data": {
      "text/plain": [
       "[]"
      ]
     },
     "execution_count": 14,
     "metadata": {},
     "output_type": "execute_result"
    }
   ],
   "source": [
    "data"
   ]
  },
  {
   "cell_type": "code",
   "execution_count": 7,
   "metadata": {},
   "outputs": [
    {
     "name": "stdout",
     "output_type": "stream",
     "text": [
      "http://api.visitkorea.or.kr/openapi/service/rest/KorService/areaBasedList?ServiceKey=4%2BqpiX2998eR6zyMtyCVaTbit40uBJGz0GpeFVgLBxd2rrNgBd%2FN2fl85IojUAmwj46PR9CRpymxR1n4GYp9aw%3D%3D&MobileOS=ETC&MobileApp=TestApp&pageNo=1&_type=json\n"
     ]
    }
   ],
   "source": [
    "query = '?ServiceKey='+API_KEY+'&MobileOS='+MobileOS+'&MobileApp='+MobileApp +'&pageNo='+ pageNo +'&_type=json'\n",
    "print(url+opCode['3']+query)"
   ]
  },
  {
   "cell_type": "code",
   "execution_count": 69,
   "metadata": {},
   "outputs": [],
   "source": [
    "data_bk= list()\n",
    "data_bk=data"
   ]
  },
  {
   "cell_type": "code",
   "execution_count": 102,
   "metadata": {},
   "outputs": [
    {
     "data": {
      "text/plain": [
       "'‘바다여행의 종합 세트’ 사천으로 가자'"
      ]
     },
     "execution_count": 102,
     "metadata": {},
     "output_type": "execute_result"
    }
   ],
   "source": [
    "data_bk[0][0]"
   ]
  },
  {
   "cell_type": "code",
   "execution_count": 53,
   "metadata": {},
   "outputs": [
    {
     "data": {
      "text/plain": [
       "'산타펜션'"
      ]
     },
     "execution_count": 53,
     "metadata": {},
     "output_type": "execute_result"
    }
   ],
   "source": [
    "data[10000][0]\n",
    "#print(len(data))"
   ]
  },
  {
   "cell_type": "code",
   "execution_count": 24,
   "metadata": {
    "scrolled": true
   },
   "outputs": [
    {
     "name": "stdout",
     "output_type": "stream",
     "text": [
      "http://api.visitkorea.or.kr/openapi/service/rest/KorService/detailImage?ServiceKey=4%2BqpiX2998eR6zyMtyCVaTbit40uBJGz0GpeFVgLBxd2rrNgBd%2FN2fl85IojUAmwj46PR9CRpymxR1n4GYp9aw%3D%3D&contentId=125811&imageYN=Y&MobileOS=ETC&MobileApp=TestApp&_type=json\n"
     ]
    },
    {
     "ename": "TypeError",
     "evalue": "list indices must be integers or slices, not str",
     "output_type": "error",
     "traceback": [
      "\u001b[1;31m---------------------------------------------------------------------------\u001b[0m",
      "\u001b[1;31mTypeError\u001b[0m                                 Traceback (most recent call last)",
      "\u001b[1;32m<ipython-input-24-cc6e9276a25a>\u001b[0m in \u001b[0;36m<module>\u001b[1;34m\u001b[0m\n\u001b[0;32m      8\u001b[0m \u001b[0mresponse_body\u001b[0m \u001b[1;33m=\u001b[0m \u001b[0murlopen\u001b[0m\u001b[1;33m(\u001b[0m\u001b[0mrequest\u001b[0m\u001b[1;33m)\u001b[0m\u001b[1;33m.\u001b[0m\u001b[0mread\u001b[0m\u001b[1;33m(\u001b[0m\u001b[1;33m)\u001b[0m\u001b[1;33m\u001b[0m\u001b[1;33m\u001b[0m\u001b[0m\n\u001b[0;32m      9\u001b[0m \u001b[0mitem\u001b[0m \u001b[1;33m=\u001b[0m \u001b[0mjson\u001b[0m\u001b[1;33m.\u001b[0m\u001b[0mloads\u001b[0m\u001b[1;33m(\u001b[0m\u001b[0mresponse_body\u001b[0m\u001b[1;33m.\u001b[0m\u001b[0mdecode\u001b[0m\u001b[1;33m(\u001b[0m\u001b[1;34m'utf-8'\u001b[0m\u001b[1;33m)\u001b[0m\u001b[1;33m)\u001b[0m\u001b[1;33m\u001b[0m\u001b[1;33m\u001b[0m\u001b[0m\n\u001b[1;32m---> 10\u001b[1;33m \u001b[0mprint\u001b[0m\u001b[1;33m(\u001b[0m\u001b[0mitem\u001b[0m\u001b[1;33m[\u001b[0m\u001b[1;34m'response'\u001b[0m\u001b[1;33m]\u001b[0m\u001b[1;33m[\u001b[0m\u001b[1;34m'body'\u001b[0m\u001b[1;33m]\u001b[0m\u001b[1;33m[\u001b[0m\u001b[1;34m'items'\u001b[0m\u001b[1;33m]\u001b[0m\u001b[1;33m[\u001b[0m\u001b[1;34m'item'\u001b[0m\u001b[1;33m]\u001b[0m\u001b[1;33m[\u001b[0m\u001b[1;34m'originimgurl'\u001b[0m\u001b[1;33m]\u001b[0m\u001b[1;33m)\u001b[0m\u001b[1;33m\u001b[0m\u001b[1;33m\u001b[0m\u001b[0m\n\u001b[0m",
      "\u001b[1;31mTypeError\u001b[0m: list indices must be integers or slices, not str"
     ]
    }
   ],
   "source": [
    "#요청이 제대로 들어가는지 확인해보기 위한 코드\n",
    "url = 'http://api.visitkorea.or.kr/openapi/service/rest/KorService/detailImage'\n",
    "cid=str(data[24517][1])\n",
    "query = '?ServiceKey='+API_KEY+'&contentId='+cid+'&imageYN=Y&MobileOS='+MobileOS+'&MobileApp='+MobileApp+'&_type=json'\n",
    "request = urllib.request.Request(url+query)\n",
    "print(url+query)\n",
    "request.get_method = lambda: 'GET'\n",
    "response_body = urlopen(request).read()\n",
    "item = json.loads(response_body.decode('utf-8'))\n",
    "print(item['response']['body']['items']['item']['originimgurl'])"
   ]
  },
  {
   "cell_type": "code",
   "execution_count": 10,
   "metadata": {},
   "outputs": [
    {
     "name": "stdout",
     "output_type": "stream",
     "text": [
      "흥양3기\n"
     ]
    }
   ],
   "source": [
    "print(data[24517][0])"
   ]
  },
  {
   "cell_type": "code",
   "execution_count": 11,
   "metadata": {},
   "outputs": [],
   "source": [
    "noimage=list()\n",
    "errorimage =list()\n",
    "#e데이터 초기화"
   ]
  },
  {
   "cell_type": "code",
   "execution_count": 14,
   "metadata": {},
   "outputs": [
    {
     "name": "stdout",
     "output_type": "stream",
     "text": [
      "<class 'str'>\n"
     ]
    }
   ],
   "source": [
    "print(type(data[21488][0]))"
   ]
  },
  {
   "cell_type": "code",
   "execution_count": 13,
   "metadata": {},
   "outputs": [
    {
     "name": "stdout",
     "output_type": "stream",
     "text": [
      "25400\n",
      "25401\n",
      "25402\n",
      "25403\n",
      "25404\n",
      "25405\n",
      "25406\n",
      "25407\n",
      "25408\n",
      "25409\n",
      "25410\n",
      "25411\n",
      "25412\n",
      "25413\n",
      "25414\n",
      "25415\n",
      "25416\n",
      "25417\n",
      "25418\n",
      "25419\n",
      "25420\n",
      "25421\n",
      "25422\n",
      "25423\n",
      "25424\n",
      "25425\n",
      "25426\n",
      "25427\n",
      "25428\n",
      "25429\n",
      "25430\n",
      "25431\n",
      "25432\n",
      "25433\n",
      "25434\n",
      "25435\n",
      "25436\n",
      "25437\n",
      "25438\n"
     ]
    },
    {
     "ename": "IndexError",
     "evalue": "list index out of range",
     "output_type": "error",
     "traceback": [
      "\u001b[1;31m---------------------------------------------------------------------------\u001b[0m",
      "\u001b[1;31mIndexError\u001b[0m                                Traceback (most recent call last)",
      "\u001b[1;32m<ipython-input-13-36e772b1613a>\u001b[0m in \u001b[0;36m<module>\u001b[1;34m\u001b[0m\n\u001b[0;32m      2\u001b[0m     \u001b[0mprint\u001b[0m\u001b[1;33m(\u001b[0m\u001b[0mi\u001b[0m\u001b[1;33m)\u001b[0m\u001b[1;33m\u001b[0m\u001b[1;33m\u001b[0m\u001b[0m\n\u001b[0;32m      3\u001b[0m     \u001b[0murl\u001b[0m \u001b[1;33m=\u001b[0m \u001b[1;34m'http://api.visitkorea.or.kr/openapi/service/rest/KorService/detailImage'\u001b[0m\u001b[1;33m\u001b[0m\u001b[1;33m\u001b[0m\u001b[0m\n\u001b[1;32m----> 4\u001b[1;33m     \u001b[0mcid\u001b[0m\u001b[1;33m=\u001b[0m\u001b[0mstr\u001b[0m\u001b[1;33m(\u001b[0m\u001b[0mdata\u001b[0m\u001b[1;33m[\u001b[0m\u001b[0mi\u001b[0m\u001b[1;33m]\u001b[0m\u001b[1;33m[\u001b[0m\u001b[1;36m1\u001b[0m\u001b[1;33m]\u001b[0m\u001b[1;33m)\u001b[0m\u001b[1;33m\u001b[0m\u001b[1;33m\u001b[0m\u001b[0m\n\u001b[0m\u001b[0;32m      5\u001b[0m     \u001b[0mquery\u001b[0m \u001b[1;33m=\u001b[0m \u001b[1;34m'?ServiceKey='\u001b[0m\u001b[1;33m+\u001b[0m\u001b[0mAPI_KEY\u001b[0m\u001b[1;33m+\u001b[0m\u001b[1;34m'&contentId='\u001b[0m\u001b[1;33m+\u001b[0m\u001b[0mcid\u001b[0m\u001b[1;33m+\u001b[0m\u001b[1;34m'&imageYN=Y&MobileOS='\u001b[0m\u001b[1;33m+\u001b[0m\u001b[0mMobileOS\u001b[0m\u001b[1;33m+\u001b[0m\u001b[1;34m'&MobileApp='\u001b[0m\u001b[1;33m+\u001b[0m\u001b[0mMobileApp\u001b[0m\u001b[1;33m+\u001b[0m\u001b[1;34m'&_type=json'\u001b[0m\u001b[1;33m\u001b[0m\u001b[1;33m\u001b[0m\u001b[0m\n\u001b[0;32m      6\u001b[0m     \u001b[0mrequest\u001b[0m \u001b[1;33m=\u001b[0m \u001b[0murllib\u001b[0m\u001b[1;33m.\u001b[0m\u001b[0mrequest\u001b[0m\u001b[1;33m.\u001b[0m\u001b[0mRequest\u001b[0m\u001b[1;33m(\u001b[0m\u001b[0murl\u001b[0m\u001b[1;33m+\u001b[0m\u001b[0mquery\u001b[0m\u001b[1;33m)\u001b[0m\u001b[1;33m\u001b[0m\u001b[1;33m\u001b[0m\u001b[0m\n",
      "\u001b[1;31mIndexError\u001b[0m: list index out of range"
     ]
    }
   ],
   "source": [
    "for i in range(25400, 25600):\n",
    "    print(i)\n",
    "    url = 'http://api.visitkorea.or.kr/openapi/service/rest/KorService/detailImage'\n",
    "    cid=str(data[i][1])\n",
    "    query = '?ServiceKey='+API_KEY+'&contentId='+cid+'&imageYN=Y&MobileOS='+MobileOS+'&MobileApp='+MobileApp+'&_type=json'\n",
    "    request = urllib.request.Request(url+query)\n",
    "    request.get_method = lambda: 'GET'\n",
    "    response_body = urlopen(request).read()\n",
    "    item = json.loads(response_body.decode('utf-8'))\n",
    "    if item['response']['body']['items']== '' : \n",
    "        noimage.append((data[i][0],data[i][1]))\n",
    "        #사진 데이터가 없을 경우 스킵\n",
    "        continue\n",
    "    else :\n",
    "        try:\n",
    "            urla = item['response']['body']['items']['item'][0]['originimgurl']\n",
    "            urllib.request.urlretrieve(urla, 'F:\\/image/'+cid+'.jpg')\n",
    "            #사진 데이터가 여러개인 경우 대표 한개만 저장\n",
    "        except KeyError:\n",
    "            urla = item['response']['body']['items']['item']['originimgurl']\n",
    "            urllib.request.urlretrieve(urla, 'F:\\/image/'+cid+'.jpg')\n",
    "            #이미지가 한개인 경우 바로 저장\n",
    "        except FileNotFoundError:\n",
    "            errorimage.append((data[i][0],data[i][1]))\n",
    "        except OSError:\n",
    "            errorimage.append((data[i][0],data[i][1]))\n",
    "            #원인 불명 이미지 에러 데이터 저장\n",
    "        "
   ]
  },
  {
   "cell_type": "code",
   "execution_count": 14,
   "metadata": {},
   "outputs": [
    {
     "data": {
      "text/plain": [
       "[('흥왕사', '488506'),\n",
       " ('흥주식당', '1761921'),\n",
       " ('흥진상사', '1342957'),\n",
       " ('흥해향교와 흥해이팝나무군락', '127222'),\n",
       " ('흩날리는 벚꽃을 만끽하다', '1870725'),\n",
       " ('희락', '2569146'),\n",
       " ('희락반점', '2582863'),\n",
       " ('희락복국', '2573075'),\n",
       " ('희방계곡', '2607141'),\n",
       " ('희원', '2503521'),\n",
       " ('흰 구름 깔아놓은 듯 황홀한 벚꽃의 자태', '2044570'),\n",
       " ('히로텔', '819941'),\n",
       " ('히메시야', '2654164'),\n",
       " ('히메지', '1906939'),\n",
       " ('히아신스펜션', '2581232'),\n",
       " ('히흣 도예공방', '128239'),\n",
       " ('힐 모텔', '2581241'),\n",
       " ('힐 [한국관광 품질인증/Korea Quality]', '1495552'),\n",
       " ('힐링 캠프', '2401201'),\n",
       " ('힐링게스트하우스민박', '2581255'),\n",
       " ('힐링모텔', '2021453'),\n",
       " ('힐링의 명소, 황톳길을 걸어보다', '1888985'),\n",
       " ('힐링펜션', '2572764'),\n",
       " ('힐사이드호텔', '2583090'),\n",
       " ('힐사이드호텔 [한국관광 품질인증/Korea Quality]', '2398864'),\n",
       " ('힐스파이브 관광펜션', '2623574'),\n",
       " ('힐즈호텔', '1831791'),\n",
       " ('힐탑모텔', '2583104'),\n",
       " ('힐하우스', '2570682'),\n",
       " ('힐하우스 호텔 [한국관광 품질인증/Korea Quality]', '2592527'),\n",
       " ('힘내라 대한민국! 공연여행 2020', '2665744'),\n",
       " ('힘찬장어구이', '2578362'),\n",
       " ('故박정렬여사 추모공원', '2400335'),\n",
       " (\"'러브레터' 풍수원성당의 낭만을 찾아서 [웰촌]\", '2519163'),\n",
       " (\"'연천 1급수' 계곡 따라 강 따라\", '2514050'),\n",
       " (\"'태양의 후예' 촬영지 여행 코스\", '2384830'),\n",
       " ('(강릉~고성) 풍경 따라 맛 따라, 7번 국도 드라이브', '2514873'),\n",
       " ('(고성) ‘명태의 고향’을 찾아서, 명태 로드', '2514958'),\n",
       " ('(고성) 북녘땅과 마주한 DMZ 여행', '2514924'),\n",
       " ('(고성) 숨은 영화 촬영지가 궁금할 때, 고성 무비 로드', '2514959'),\n",
       " ('(고성) 옛것과 예술의 조우, 문화 산책', '2514914'),\n",
       " ('(고성) 울산바위 품고 달리는 풍경 길', '2515239'),\n",
       " ('(고성) 타박타박 해파랑길 걸으며, 별미 여행', '2514964'),\n",
       " ('(고성) 화진포의 수려한 풍광 속으로, 자전거 여행', '2514956'),\n",
       " ('(구)강경노동조합', '946712'),\n",
       " ('(구)태백등기소', '2405937'),\n",
       " ('(구)한일은행 강경지점', '946844'),\n",
       " ('(사)영남선비문화수련원(구암서원 (사)영남선비문화수련원)', '2603918'),\n",
       " ('(사)한국천연염색 숨', '2604493'),\n",
       " ('(인제~고성) 쉼과 여유, 역사가 있는 휴식 여행', '2514954'),\n",
       " ('(재)행복전통마을(계남고택)(전통 리조트 구름에-계남고택)', '2599295'),\n",
       " ('(재)행복전통마을(박산정)(전통 리조트 구름에-박산정)', '2599344'),\n",
       " ('(재)행복전통마을(성곡동재사)(전통 리조트 구름에-성곡동재사)', '2599346'),\n",
       " ('(재)행복전통마을(칠곡고택)(전통 리조트 구름에-칠곡고택)', '2599348'),\n",
       " ('(재) 행복전통마을 (서운정)(전통 리조트 구름에-서운정)', '2599291'),\n",
       " ('(재) 행복전통마을 (청옹정)(전통 리조트 구름에-청옹정)', '2599293'),\n",
       " ('(재) 행복전통마을(감동재사)(전통 리조트 구름에-감동재사)', '2599294'),\n",
       " ('(주)강릉씨티호텔[한국관광 품질인증/Korea Quality]', '2651624'),\n",
       " ('(주)레이나 컴퍼니(레이나 호텔&펜션)', '2622131'),\n",
       " ('(주)마산관광호텔', '2577024'),\n",
       " ('(주)산에는 꽃이피네[한국관광 품질인증/Korea Quality]', '1972012'),\n",
       " ('(주)수다방 게스트하우스(목포게스트하우스수다방)', '2575118'),\n",
       " ('(주)올림픽호텔', '2577053'),\n",
       " ('(주)우리술', '2461702'),\n",
       " ('(주)워커힐 인천공항 환승호텔', '137763'),\n",
       " ('(주)호텔락희[한국관광 품질인증/Korea Quality]', '2531371'),\n",
       " ('(평창~고성) 숲과 바다를 넘나드는 힐링 로드', '2514879'),\n",
       " ('(K-POP)케이팝레지던스 충무로점', '1932216'),\n",
       " ('1번지무인호텔', '2581332'),\n",
       " ('1,2,3 삼계탕', '2572248'),\n",
       " ('1,500년 전 가야시대 소녀를 만나러 가다', '1870718'),\n",
       " ('1.21 무장공비 침투로', '127408'),\n",
       " ('100고개길', '2396689'),\n",
       " ('1012 하우스 남산', '2603706'),\n",
       " ('12폭포 따라 즐기는 계곡트래킹', '1875635'),\n",
       " ('123할매김밥', '2572306'),\n",
       " ('141미니호텔[한국관광 품질인증/Korea Quality]', '2017064'),\n",
       " ('1928 쉼마루', '2568571'),\n",
       " ('1930년대로 떠나는 군산시간여행', '2036028'),\n",
       " ('1960 청원모밀', '403871'),\n",
       " ('2천년의 역사를 간직한 오래된 옛길을 걷다', '1871110'),\n",
       " ('24게스트하우스 경희대점', '2618517'),\n",
       " ('24게스트하우스 서울역점', '1932499'),\n",
       " ('24게스트하우스(서울 잠실점) (24게스트하우스 잠실점)', '2666403'),\n",
       " ('24시 남양돼지국밥', '2575758'),\n",
       " ('24시돌솥밥 설렁탕', '2583168'),\n",
       " ('24시제주해장국', '2654135'),\n",
       " ('3·1운동의 정신을 느껴보는 서울 여행', '2590223'),\n",
       " ('3·15 아트센터', '1748884'),\n",
       " ('3대곰탕', '1985799'),\n",
       " ('3대의 덕을 쌓아 천왕봉 일출 보러가자', '1855645'),\n",
       " ('3.1동산', '1584985'),\n",
       " ('3.3국밥', '1918883'),\n",
       " ('300년의 시간을 오감으로 느끼는 하룻밤', '2358072'),\n",
       " ('365일 색다른 재미가 넘치는 대관령', '1871389'),\n",
       " ('38선마을', '2569466'),\n",
       " ('38평화마을', '2398918'),\n",
       " ('38해변', '2398922'),\n",
       " ('4월이야기', '1271086'),\n",
       " ('5월, 아름다운 신록을 만나다.', '2048382'),\n",
       " ('5.18 숭고한 넋을 되새겨보는 여행', '1888936'),\n",
       " ('5.5닭갈비', '2580053'),\n",
       " ('50년전통닭갈비막국수', '2424397'),\n",
       " ('500돈', '2580065'),\n",
       " ('500호호텔', '2581349'),\n",
       " ('58년전통해운대원조할매국밥', '2642332'),\n",
       " ('5gam', '2424408'),\n",
       " ('6.25전쟁 최대 격전지, 칠곡 방어선 돌아보기', '2519128'),\n",
       " ('600년 역사의 재미난 스토리가 흐르는 골목', '2038266'),\n",
       " ('63뷔페 파빌리온', '570596'),\n",
       " ('700리 해안의 풍광을 따라 달리는 지상 최고의 드라이브', '2364067'),\n",
       " ('7hundred', '2428090'),\n",
       " ('800년을 이어온 신명 나는 탈판', '2048650'),\n",
       " ('88생선구이', '134033'),\n",
       " ('96번지 트래블러스 롯지', '2602549'),\n",
       " ('<무한도전>처럼 나도 한번! 조정경기에 도전해 보다', '1938441'),\n",
       " ('AJ하우스(AJ House)', '2570213'),\n",
       " ('AT 30', '2607446'),\n",
       " ('B my guesthouse', '2602468'),\n",
       " ('B station(비스테이션)', '142963'),\n",
       " ('B&C(비앤씨)모텔', '2017657'),\n",
       " (\"B's coffee\", '2605480'),\n",
       " ('BBQ OLIVE CHICKEN & BEER 제주삼무공원', '2654432'),\n",
       " ('BMW 드라이빙센터', '2458348'),\n",
       " ('Better Guest House', '2569918'),\n",
       " ('BnB Busan Guesthouse', '2612155'),\n",
       " ('C&N HOSTEL', '2577064'),\n",
       " ('C&TEL 모텔', '2396985'),\n",
       " ('C27 가로수길', '2654188'),\n",
       " ('C27 홍대', '2654189'),\n",
       " ('CA호텔', '2569157'),\n",
       " ('CAFE종로시장', '2654190'),\n",
       " ('CATS모텔', '2397009'),\n",
       " ('COIN', '2660887'),\n",
       " ('Cafe COIN', '2642589'),\n",
       " ('Cafe hobby makers', '2424423'),\n",
       " ('Caravansara', '2605447'),\n",
       " ('Chuls lodge', '2609910'),\n",
       " ('Cozy Lodge', '2573944'),\n",
       " ('DGB 대구은행파크', '2606238'),\n",
       " ('DMC 홍보관', '2453089'),\n",
       " ('DMZ국제다큐멘터리영화제 2019', '1333703'),\n",
       " ('DMZ산림두드림센터', '2569462'),\n",
       " ('Dal Garam Guesthouse', '2571952'),\n",
       " ('Dal2 house(달이하우스)', '2660512'),\n",
       " ('E모텔', '2569163'),\n",
       " ('EBS 국제다큐영화제 2019', '1852075'),\n",
       " ('ETRI 정보통신전시관', '2460286'),\n",
       " ('Encasa펜션(앤까사펜션)', '2570326'),\n",
       " ('Enjoy Busan', '2570332'),\n",
       " ('FH365(FH365 펜션)', '2662854'),\n",
       " ('FM테마', '131855'),\n",
       " ('Funfun stay(펀펀스테이)', '2569244'),\n",
       " ('G밸리 패션지원센터', '2553947'),\n",
       " ('G7 무인텔', '2571364'),\n",
       " ('GRC 국제 무선모형 자동차 트랙', '2642536'),\n",
       " (\"Goldlady's House\", '2619965'),\n",
       " ('Good Day Festival 2019', '2611504'),\n",
       " ('GuestH(진주게스트하우스_GuestH)', '2604348'),\n",
       " ('H모텔', '2581363'),\n",
       " ('H호텔', '2570727'),\n",
       " ('H&M (명동1호점)', '1258328'),\n",
       " ('H(에이치)모텔[한국관광 품질인증/Korea Quality]', '2637906'),\n",
       " ('HAEYA관광호텔', '2570744'),\n",
       " ('HOTEL B', '2664514'),\n",
       " ('Happy Day Family', '2608497'),\n",
       " ('Healing Hanok 채효당(힐링한옥 채효당)', '2569920'),\n",
       " ('Hello! 과학마을축제 2019', '1851001'),\n",
       " ('Hongjewon(홍제원게스트하우스)', '2574110'),\n",
       " ('ICC JEJU  패밀리 레스토랑 델리지아', '1799245'),\n",
       " ('IF모텔', '2397178'),\n",
       " ('IN모텔', '2574653'),\n",
       " ('IS모텔', '1814109'),\n",
       " ('In서피랑', '2572389'),\n",
       " (\"It's 수 홍보관\", '2458926'),\n",
       " ('J모텔', '2579319'),\n",
       " ('J모텔(제이모텔)', '1993996'),\n",
       " ('JDC 면세점 (제주공항점)', '132487'),\n",
       " ('JFK 대천 워터파크', '129698'),\n",
       " ('JI호텔 신관(화려한외출)', '1932641'),\n",
       " ('JTBC', '2553928'),\n",
       " ('JW 메리어트 동대문 스퀘어 서울', '1914920'),\n",
       " ('Joy house', '2618531'),\n",
       " ('K게스트하우스 동대문프리미엄2(구 케이팝레지던스 동대문점)', '2018416'),\n",
       " ('K모텔', '2397179'),\n",
       " ('K-그랜드 호스텔 강남 1(K-GRAND HOSTEL GANGNAM1)', '2666430'),\n",
       " ('K-모텔', '1882463'),\n",
       " ('K-핸드메이드 & 일러스트레이션페어 부산 2020', '2523149'),\n",
       " ('K-Festival (한국축제&여행박람회) 2020', '1925900'),\n",
       " ('K-PARK(케이파크)', '2621484'),\n",
       " ('KB RAPBEAT FESTIVAL(KB 랩비트 페스티벌) 2020', '2656070'),\n",
       " ('KBC 광주방송', '1852992'),\n",
       " ('KBS 제주', '2469465'),\n",
       " ('KBS 창원홀', '129751'),\n",
       " ('KYMF 대한민국청소년미디어대전 2020', '630793'),\n",
       " ('LA모텔', '2574703'),\n",
       " ('LG화학 대산공장', '2465924'),\n",
       " ('LG 태안 태양광 발전소', '2469038'),\n",
       " ('LH 토지주택박물관', '2554569'),\n",
       " ('LK호텔', '2391275'),\n",
       " ('La Casa del Sol (라까사델솔 게스트하우스)', '2569922'),\n",
       " ('Let’s Get it :  래(來) 추(揫) 기(技) 리(利) 2019', '2638453'),\n",
       " ('LikeU(라이크유)', '2569531'),\n",
       " ('Lynn(린)', '2608434'),\n",
       " ('M모텔', '2574742'),\n",
       " ('MBC WORLD(견학홀)', '2453070'),\n",
       " ('MK 리버티하우스', '2018270'),\n",
       " ('MS 빌리지 (푸른계곡 관광농원)', '127467'),\n",
       " ('MW 게스트하우스(MW HOUSE)', '2621050'),\n",
       " ('Miss Egg House(미스에그 하우스)', '2619862'),\n",
       " ('Mr. Brown', '2605473'),\n",
       " ('NDA International Festival 2019', '2554911'),\n",
       " ('NOEL coffee', '2428106'),\n",
       " ('NS호텔(엔에스호텔)', '137057'),\n",
       " ('Namsan Park House', '2605482'),\n",
       " ('NextRise, Seoul 2019', '2608900'),\n",
       " ('OBS 방송역사체험관', '2465022'),\n",
       " ('OK민박펜션', '2574830'),\n",
       " ('OK한우 OK한돈(구 OK한우농장)', '1920783'),\n",
       " ('OST모텔', '2397180'),\n",
       " ('PHILSTAY ETAEWON(필스테이 이태원 philstay itaewon)', '2620120'),\n",
       " ('PORT BEER FESTA (포트비어페스타) 2019', '2621238'),\n",
       " ('PRECTXE : Digital Art Festival 2019', '2630378'),\n",
       " ('Q모텔', '2579397'),\n",
       " ('Q모텔', '2574883'),\n",
       " ('Q큐 모텔', '2578452'),\n",
       " ('Q HOTEL', '1927106'),\n",
       " ('S모텔', '2571549'),\n",
       " ('S모텔', '2579407'),\n",
       " ('S 모텔', '2581378'),\n",
       " ('S1호텔(에스원호텔)', '1820536'),\n",
       " ('SBS와 함께하는 2019 K-POP 1박2일 CONCERT 2019', '2622087'),\n",
       " ('SJ쿤스트할레 [문화공간]', '1062450'),\n",
       " ('SPA 1899 동인비', '2660731'),\n",
       " ('SUMI HOUSE', '2574209'),\n",
       " ('SW교육 체험주간 2019', '2620637'),\n",
       " ('SW교육 페스티벌 2019', '2620653'),\n",
       " ('Seoulwise Guesthouse', '2569594'),\n",
       " ('Sweet Home Seoul', '2624028'),\n",
       " ('THE B.S호텔(더비에스호텔) [한국관광 품질인증/Korea Quality]', '2596750'),\n",
       " ('THE BAY 제주리조트 (더베이 제주리조트)', '1905280'),\n",
       " ('Tae’s house [한국관광 품질인증/Korea Quality]', '2595846'),\n",
       " (\"Tae's house\", '2603855'),\n",
       " ('Tavo House', '2604674'),\n",
       " ('The Park Guest House', '2624014'),\n",
       " ('The house of Gallery(The house of gallery)', '2569249'),\n",
       " ('Tina`s Homestay', '2576334'),\n",
       " ('Two Two House', '2623934'),\n",
       " ('USB하우스', '2608038'),\n",
       " ('V모텔', '2571161'),\n",
       " ('V모텔', '2574909'),\n",
       " ('V온천모텔', '2571584'),\n",
       " ('VIP호텔', '2581393'),\n",
       " ('VIP 모텔', '2574905'),\n",
       " ('W모텔', '2038293'),\n",
       " ('W모텔', '2574960'),\n",
       " ('W 호텔', '2569171'),\n",
       " ('WA모텔', '2581426'),\n",
       " ('WA 55', '2629747'),\n",
       " ('XO모텔', '1634785'),\n",
       " (\"Y's house\", '2651936'),\n",
       " ('YAT(와이에이티)', '2670028'),\n",
       " ('YOU & I (유앤아이)(구미 유앤아이펜션)', '2571982'),\n",
       " ('YTN', '2553923'),\n",
       " ('[강릉 바우길 10구간] 심스테파노 길', '1012593'),\n",
       " ('[강릉 바우길 3구간] 어명을 받은 소나무길', '1012186'),\n",
       " ('[경기옛길 삼남길 제1길] 한양관문길(남태령표석 ~ 인덕원옛터)', '1830941'),\n",
       " ('[경기옛길 삼남길 제10길] 소사원길(원균장군묘 ~ 안성천교)', '1835740'),\n",
       " ('[경기옛길 삼남길 제2길] 인덕원길(인덕원옛터 ~ 백운호수입구)', '1835264'),\n",
       " ('[경기옛길 삼남길 제3길] 모락산길(백운호수입구 ~ 지지대비)', '1835272'),\n",
       " ('[경기옛길 삼남길 제4길] 서호천길(지지대비 ~ 서호공원입구)', '1835368'),\n",
       " ('[경기옛길 삼남길 제5길] 중복들길(서호공원입구 ~ 배양교)', '1835388'),\n",
       " ('[경기옛길 삼남길 제6길] 화성효행길 (배양교 ~ 세마교)', '1835565'),\n",
       " ('[경기옛길 삼남길 제7길] 독산성길(세마교 ~ 오산고인돌공원)', '1835620'),\n",
       " ('[경기옛길 삼남길 제8길] 오나리길(오산고인돌공원 ~ 맑음터공원)', '1835774'),\n",
       " ('[경기옛길 삼남길 제9길] 진위고을길(맑음터공원 ~ 원균장군묘)', '1835715'),\n",
       " ('[경기옛길 의주길 제1길] 벽제관길', '2395453'),\n",
       " ('[고창 고인돌 질마재길 2코스] 복분자 풍천장어길', '1030618'),\n",
       " ('[관광두레] 민화이야기와 약초향기 가득한 체험여행', '1928379'),\n",
       " ('[관광두레] 아빠! 양평가?!', '1928063'),\n",
       " ('[관광두레] 엄마! 양평가?!', '1928391'),\n",
       " ('[관광두레] 우리는 노는 물이 다르다! 청풍호 여행', '1928381'),\n",
       " ('[관광두레] 푸른 소나무 따라 슬로우, 슬로우 떠나는 여행', '1928383'),\n",
       " ('[군산 구불길] 구불1길 비단강길', '1034132'),\n",
       " ('[군산 구불길] 구불2길 햇빛길', '1034221'),\n",
       " ('[군산 구불길] 구불3길 큰들길', '1034296'),\n",
       " ('[군산 구불길] 구불4길 구슬뫼길', '1034468'),\n",
       " ('[남해 바래길 1코스] 다랭이지겟길', '1195507'),\n",
       " ('[남해 바래길 6코스] 말발굽길', '1195641'),\n",
       " ('[남해 바래길 7코스] 고사리밭길', '1195650'),\n",
       " ('[대구올레 팔공산 7코스] 폭포골 가는 길', '1047636'),\n",
       " ('[대구올레 팔공산 8코스] 수태지 계곡길', '1168464'),\n",
       " ('[명예대표축제]김제 지평선축제 2020', '574285'),\n",
       " ('[문화관광축제] 시흥갯골축제 2020', '142197'),\n",
       " ('[백년가게]남한산성은행나무집', '2609515'),\n",
       " ('[백년가게]보은집', '800918'),\n",
       " ('[백년가게]정화네하우스', '2616368'),\n",
       " ('[백년가게]형제돌구이', '2609534'),\n",
       " ('[상주 MRF 1코스] 낙동강길', '1043293'),\n",
       " ('[상주 MRF 10코스] 똥고개길', '1043473'),\n",
       " ('[상주 MRF 11코스] 천년길', '1043501'),\n",
       " ('[상주 MRF 12코스] 자산산성길', '1043547'),\n",
       " ('[상주 MRF 13코스] 너추리길', '1043557'),\n",
       " ('[상주 MRF 2코스] 초원길', '1043329'),\n",
       " ('[상주 MRF 4코스] 숨소리길', '1043760'),\n",
       " ('[상주 MRF 5코스] 가야길', '1043637'),\n",
       " ('[상주 MRF 6코스] 이전길', '1043805'),\n",
       " ('[상주 MRF 7코스] 소곰길', '1043780'),\n",
       " ('[상주 MRF 8코스] 장서방길', '1043724'),\n",
       " ('[상주 MRF 9코스] 바람소리길', '1043734'),\n",
       " ('[서산 아라메길 1구간] 유기방가옥~해미읍성 동헌', '1047088'),\n",
       " ('[서울둘레길 1코스] 수락·불암산코스', '1964911'),\n",
       " ('[증도 모실길 1코스] 노을이 아름다운 사색의 길', '1194419'),\n",
       " ('[증도 모실길 2코스] 보물선 순교자 발자취 길', '1194470'),\n",
       " ('[증도 모실길 3코스] 천년의 숲길', '1194474'),\n",
       " ('[증도 모실길 4코스] 갯벌공원길', '1194477'),\n",
       " ('[지리산 둘레길 코스] 주천~운봉', '1981067'),\n",
       " ('[착한가게]시골집순두부', '2580824'),\n",
       " ('[착한가게]종가집', '2580838'),\n",
       " ('[착한가게]푸른솔아구집', '2580847'),\n",
       " ('[착한가게] 가림뚝배기', '2580453'),\n",
       " ('[착한가게] 가야장', '2580454'),\n",
       " ('[착한가게] 강원식당', '2580970'),\n",
       " ('[착한가게] 거제냉밀면', '2580347'),\n",
       " ('[착한가게] 경성국밥', '2581585'),\n",
       " ('[착한가게] 골목식당', '2580972'),\n",
       " ('[착한가게] 광양숯불갈비', '2580667'),\n",
       " ('[착한가게] 구구장어구이', '2581587'),\n",
       " ('[착한가게] 구이와아구찜', '2580974'),\n",
       " ('[착한가게] 국일식당', '2580455'),\n",
       " ('[착한가게] 기사식당', '2580351'),\n",
       " ('[착한가게] 나라식당', '2580456'),\n",
       " ('[착한가게] 나포리충무김밥', '2581618'),\n",
       " ('[착한가게] 낙동추어탕', '2581593'),\n",
       " ('[착한가게] 남영식당', '2580360'),\n",
       " ('[착한가게] 노르쇠핑 제과점', '2580977'),\n",
       " ('[착한가게] 다순구미감자탕', '2580668'),\n",
       " ('[착한가게] 다우촌', '2580981'),\n",
       " ('[착한가게] 다원식당', '2580983'),\n",
       " ('[착한가게] 대구왕뽈떼기집', '2580986'),\n",
       " ('[착한가게] 대명옥', '2580457'),\n",
       " ('[착한가게] 대복대구탕', '2580988'),\n",
       " ('[착한가게] 대청', '2580804'),\n",
       " ('[착한가게] 덤', '2580995'),\n",
       " ('[착한가게] 도원', '2581014'),\n",
       " ('[착한가게] 동산분식', '2581023'),\n",
       " ('[착한가게] 동해반점', '2581028'),\n",
       " ('[착한가게] 땡초김밥', '2580446'),\n",
       " ('[착한가게] 만수원숯불갈비', '2581052'),\n",
       " ('[착한가게] 맛고을식당', '2581055'),\n",
       " ('[착한가게] 명산칼국수', '2580458'),\n",
       " ('[착한가게] 미주옥', '2580459'),\n",
       " ('[착한가게] 밥이랑고기랑', '2581058'),\n",
       " ('[착한가게] 백궁', '2580462'),\n",
       " ('[착한가게] 베테랑생돈까스', '2580466'),\n",
       " ('[착한가게] 본가', '2581059'),\n",
       " ('[착한가게] 본가할매김밥', '2581620'),\n",
       " ('[착한가게] 북경', '2581060'),\n",
       " ('[착한가게] 비파김밥', '2580814'),\n",
       " ('[착한가게] 산골보리밥정식', '2580384'),\n",
       " ('[착한가게] 삼미식당', '2581061'),\n",
       " ('[착한가게] 서울식당', '2580399'),\n",
       " ('[착한가게] 서울식당', '2581062'),\n",
       " ('[착한가게] 선현대솥뚜껑갈비', '2580478'),\n",
       " ('[착한가게] 성균관', '2580820'),\n",
       " ('[착한가게] 소머리국밥 신우2호점', '2580482'),\n",
       " ('[착한가게] 손가네분식', '2580822'),\n",
       " ('[착한가게] 솟대', '2581072'),\n",
       " ('[착한가게] 수다라', '2581073'),\n",
       " ('[착한가게] 아서원', '2580486'),\n",
       " ('[착한가게] 안골목', '2581074'),\n",
       " ('[착한가게] 안창깍두기', '2581075'),\n",
       " ('[착한가게] 연산순대국밥', '2580826'),\n",
       " ('[착한가게] 영광반점', '2580830'),\n",
       " ('[착한가게] 옛날손짜장', '2581076'),\n",
       " ('[착한가게] 오리둥지', '2581597'),\n",
       " ('[착한가게] 온천장 칼국수', '2580450'),\n",
       " ('[착한가게] 왕보리밥', '2580413'),\n",
       " ('[착한가게] 외갓집', '2581467'),\n",
       " ('[착한가게] 우리동네분식', '2581475'),\n",
       " ('[착한가게] 원조가락지', '2580835'),\n",
       " ('[착한가게] 원조충무 할매김밥', '2581621'),\n",
       " ('[착한가게] 원조할매낙지', '2581477'),\n",
       " ('[착한가게] 유가냉면', '2581478'),\n",
       " ('[착한가게] 은하 칼국수', '2581599'),\n",
       " ('[착한가게] 이모손충무김밥', '2581622'),\n",
       " ('[착한가게] 이조칼국수', '2581482'),\n",
       " ('[착한가게] 일향', '2581485'),\n",
       " ('[착한가게] 장수보리밥뷔페', '2581501'),\n",
       " ('[착한가게] 장안숯불갈비', '2580452'),\n",
       " ('[착한가게] 장터수육', '2581507'),\n",
       " ('[착한가게] 정원식당', '2581510'),\n",
       " ('[착한가게] 제일식당', '2581552'),\n",
       " ('[착한가게] 제주숯불갈비', '2581553'),\n",
       " ('[착한가게] 제주식당', '2581554'),\n",
       " ('[착한가게] 중앙식육식당', '2580431'),\n",
       " ('[착한가게] 짜장나라', '2581555'),\n",
       " ('[착한가게] 차우차우', '2580846'),\n",
       " ('[착한가게] 참고을숯불식육식당', '2581606'),\n",
       " ('[착한가게] 참새와 방앗간 포차', '2581556'),\n",
       " ('[착한가게] 청정오리떼', '2580490'),\n",
       " ('[착한가게] 초원식당', '2581607'),\n",
       " ('[착한가게] 춘양반점', '2581557'),\n",
       " ('[착한가게] 춘자네 식당', '2581558'),\n",
       " ('[착한가게] 춘천돼지국밥', '2581562'),\n",
       " ('[착한가게] 탕짜', '2581564'),\n",
       " ('[착한가게] 태양추어탕 보리밥집', '2581569'),\n",
       " ('[착한가게] 터미널충무김밥', '2581625'),\n",
       " ('[착한가게] 퇴근길', '2581572'),\n",
       " ('[착한가게] 푸짐한식당', '2581575'),\n",
       " ('[착한가게] 하가촌식당', '2581610'),\n",
       " ('[착한가게] 하누랑', '2580439'),\n",
       " ('[착한가게] 하동돼지국밥', '2581616'),\n",
       " ('[착한가게] 한식뷔페', '2581577'),\n",
       " ('[착한가게] 할머니손칼국시', '2581580'),\n",
       " ('[착한가게] 합천식당', '2581617'),\n",
       " ('[착한가게] 해금강천년송횟집', '134769'),\n",
       " ('[착한가게] 행운식당', '2580442'),\n",
       " ('[착한가게] 홍가네만두낙지칼국수', '2580849'),\n",
       " ('[착한가게] 황돈숯불생고기', '2581583'),\n",
       " ('[착한가격업소] GOGO 대패삼겹(구 외식마을)', '2581473'),\n",
       " ('[착한식당] 정가네', '2580421'),\n",
       " ('[해안누리길] 해넘이길', '1827496'),\n",
       " ('bloom in coffee', '2424415'),\n",
       " ('brother house(artist house)', '2619938'),\n",
       " ('cafe제이드 dining', '2574324'),\n",
       " ('cafe buja', '2424419'),\n",
       " ('cafe nas', '2424428'),\n",
       " ('casa cielo', '2663306'),\n",
       " ('e맛 감자탕', '2428101'),\n",
       " ('e-민물장어 하우스', '1817377'),\n",
       " ('james house(제임스 하우스)', '2621022'),\n",
       " ('kr명동삼계탕', '2659694'),\n",
       " ('mujuresortel(무주리조텔)[한국관광 품질인증/Korea Quality]', '2528584'),\n",
       " ('on온모텔', '2579320'),\n",
       " ('people(후암별장3030)', '2621104'),\n",
       " ('pine view', '2606397'),\n",
       " ('s-쁘띠호텔', '2397181'),\n",
       " ('santa 아리아', '1808383'),\n",
       " ('seoul corner guest house 1호점(서울 코너 게스트하우스)', '2620993'),\n",
       " ('tbs교통방송', '2553921'),\n",
       " ('teriyaki', '2428109')]"
      ]
     },
     "execution_count": 14,
     "metadata": {},
     "output_type": "execute_result"
    }
   ],
   "source": [
    "noimage"
   ]
  },
  {
   "cell_type": "code",
   "execution_count": 24,
   "metadata": {},
   "outputs": [
    {
     "data": {
      "text/plain": [
       "'흥성동헌'"
      ]
     },
     "execution_count": 24,
     "metadata": {},
     "output_type": "execute_result"
    }
   ],
   "source": [
    "noimage[-1][0]\n",
    "#noimage마지막 파일 확인"
   ]
  },
  {
   "cell_type": "code",
   "execution_count": 54,
   "metadata": {},
   "outputs": [
    {
     "data": {
      "text/plain": [
       "[]"
      ]
     },
     "execution_count": 54,
     "metadata": {},
     "output_type": "execute_result"
    }
   ],
   "source": [
    "errorimage"
   ]
  },
  {
   "cell_type": "code",
   "execution_count": 15,
   "metadata": {},
   "outputs": [],
   "source": [
    "dataframe=pd.DataFrame(noimage)\n",
    "dataframe.to_csv(\"F:\\/image/noimage_day10.csv\",header=False,index=False)\n",
    "#noimage 데이터 csv로 저장-> 한글 인코딩 에러남 아래 코드 사용시 인코딩 에러 x"
   ]
  },
  {
   "cell_type": "code",
   "execution_count": 11,
   "metadata": {},
   "outputs": [],
   "source": [
    "dataframe=pd.DataFrame(data)\n",
    "dataframe.to_csv(\"F:\\/image/data_1.csv\",header=False,index=False,encoding='utf-8-sig')"
   ]
  },
  {
   "cell_type": "code",
   "execution_count": null,
   "metadata": {},
   "outputs": [],
   "source": []
  }
 ],
 "metadata": {
  "kernelspec": {
   "display_name": "Python 3",
   "language": "python",
   "name": "python3"
  },
  "language_info": {
   "codemirror_mode": {
    "name": "ipython",
    "version": 3
   },
   "file_extension": ".py",
   "mimetype": "text/x-python",
   "name": "python",
   "nbconvert_exporter": "python",
   "pygments_lexer": "ipython3",
   "version": "3.7.7"
  }
 },
 "nbformat": 4,
 "nbformat_minor": 4
}
